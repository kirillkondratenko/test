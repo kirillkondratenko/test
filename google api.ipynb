{
 "cells": [
  {
   "cell_type": "code",
   "execution_count": 1,
   "id": "c4e1747b",
   "metadata": {},
   "outputs": [],
   "source": [
    "import gspread\n",
    "import pymongo as pm\n",
    "import pandas as pd\n",
    "import numpy as np\n",
    "from gspread_dataframe import set_with_dataframe\n",
    "from datetime import datetime, timedelta\n",
    "\n",
    "# Create the client\n",
    "db_client = pm.MongoClient(\n",
    "    '####')\n",
    "db = db_client.mygig\n",
    "\n",
    "gc = gspread.service_account(\n",
    "    '####'')\n",
    "T1 = gc.open_by_key('####')\n",
    "df = pd.read_csv('####')"
   ]
  },
  {
   "cell_type": "code",
   "execution_count": 2,
   "id": "7eaf5f6b",
   "metadata": {},
   "outputs": [],
   "source": [
    "users = pd.DataFrame(db['users'].find(\n",
    "    {'phone': {'$in': list(df['№ тел'].astype('float64'))}}))\n",
    "workers = pd.DataFrame(db['workers'].find(\n",
    "    {'user': {'$in': list(users['_id'])}}))\n",
    "jobs = pd.DataFrame(db['jobs'].find({'worker': {'$in': list(workers['_id'])}}))\n",
    "job_history = pd.DataFrame(db['job_history'].find(\n",
    "    {'job': {'$in': list(jobs['_id'])}}))\n",
    "workplaces = pd.DataFrame(db['workplaces'].find(\n",
    "    {'_id': {'$in': list(jobs['workplace'])}}))\n",
    "contractors = pd.DataFrame(db['contractors'].find(\n",
    "    {'_id': {'$in': list(workplaces['contractor'])}}))"
   ]
  },
  {
   "cell_type": "code",
   "execution_count": 3,
   "id": "b7ca43c3",
   "metadata": {},
   "outputs": [],
   "source": [
    "users['phone'] = users['phone'].fillna(0).astype('int64').astype(str)"
   ]
  },
  {
   "cell_type": "code",
   "execution_count": 4,
   "id": "23297a19",
   "metadata": {},
   "outputs": [],
   "source": [
    "# Присоединяем по номеру телефона все данные\n",
    "df = df.merge(users[['_id', 'phone']].rename(columns={'_id': 'user_id'}),\n",
    "              left_on=df['№ тел'].astype(str), right_on='phone', how='left').merge(\n",
    "    workers[['_id', 'user']].rename(columns={'_id': 'worker_id'}),\n",
    "    left_on='user_id', right_on='user', how='left').merge(\n",
    "    jobs[jobs['status'] != 'cancelled'][['_id', 'worker', 'status', 'start',\n",
    "                                         'workplace', 'api_client', 'client']].rename(columns={\n",
    "                                             '_id': 'job_id'}),\n",
    "    left_on='worker_id', right_on='worker', how='left').merge(\n",
    "    job_history[job_history['status'] == 'booked'][['job', 'createdAt']],\n",
    "    left_on='job_id', right_on='job', how='left').merge(\n",
    "    workplaces[['_id', 'contractor']],\n",
    "    left_on='workplace', right_on='_id', how='left').merge(\n",
    "    contractors[['_id', 'type', 'legal_name']],\n",
    "    left_on='contractor', right_on='_id', how='left')[[\n",
    "        'ФИО', '№ тел', 'job_id', 'status', 'start', 'createdAt',\n",
    "        'type', 'api_client', 'legal_name', 'client']]\n",
    "\n",
    "# Формируем итоговый датафрейм\n",
    "df.columns = ['ФИО', '№ тел', 'id смены', 'статус смены', 'дата смены', 'дата бронирования', 'тип',\n",
    "              'способ бронирвоания смены', 'Контрагент', 'Клиент']\n",
    "\n",
    "# Загружаем данные на лист\n",
    "T1.get_worksheet(1).clear()\n",
    "set_with_dataframe(T1.get_worksheet(1), df)"
   ]
  }
 ],
 "metadata": {
  "kernelspec": {
   "display_name": "Python 3 (ipykernel)",
   "language": "python",
   "name": "python3"
  },
  "language_info": {
   "codemirror_mode": {
    "name": "ipython",
    "version": 3
   },
   "file_extension": ".py",
   "mimetype": "text/x-python",
   "name": "python",
   "nbconvert_exporter": "python",
   "pygments_lexer": "ipython3",
   "version": "3.9.13"
  },
  "varInspector": {
   "cols": {
    "lenName": 16,
    "lenType": 16,
    "lenVar": 40
   },
   "kernels_config": {
    "python": {
     "delete_cmd_postfix": "",
     "delete_cmd_prefix": "del ",
     "library": "var_list.py",
     "varRefreshCmd": "print(var_dic_list())"
    },
    "r": {
     "delete_cmd_postfix": ") ",
     "delete_cmd_prefix": "rm(",
     "library": "var_list.r",
     "varRefreshCmd": "cat(var_dic_list()) "
    }
   },
   "types_to_exclude": [
    "module",
    "function",
    "builtin_function_or_method",
    "instance",
    "_Feature"
   ],
   "window_display": false
  }
 },
 "nbformat": 4,
 "nbformat_minor": 5
}
