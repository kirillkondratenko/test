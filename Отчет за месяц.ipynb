{
 "cells": [
  {
   "cell_type": "code",
   "execution_count": 1,
   "id": "2ab46d92",
   "metadata": {},
   "outputs": [],
   "source": [
    "import pymongo as pm\n",
    "import pandas as pd\n",
    "from datetime import datetime\n",
    "# Create the client\n",
    "db_client = pm.MongoClient('####')\n",
    "db = db_client.mygig"
   ]
  },
  {
   "cell_type": "code",
   "execution_count": 3,
   "id": "9ba2fede",
   "metadata": {},
   "outputs": [],
   "source": [
    "# Ограничиваем период\n",
    "start = datetime(2023, 9, 1)\n",
    "finish = datetime(2023, 9, 16)"
   ]
  },
  {
   "cell_type": "code",
   "execution_count": 4,
   "id": "908aaa5e",
   "metadata": {},
   "outputs": [],
   "source": [
    "# Подгрузка данных\n",
    "jobs = pd.DataFrame(db['jobs'].find({'start': {'$gte': start, '$lt': finish}}))\n",
    "workers = pd.DataFrame(db['workers'].find(\n",
    "    {'_id': {'$in': list(jobs['worker'])}}))\n",
    "users = pd.DataFrame(db['users'].find({'_id': {'$in': list(workers['user'])}}))\n",
    "workplaces = pd.DataFrame(db['workplaces'].find(\n",
    "    {'_id': {'$in': list(jobs['workplace'])}}))"
   ]
  },
  {
   "cell_type": "code",
   "execution_count": 5,
   "id": "abe0a969",
   "metadata": {},
   "outputs": [],
   "source": [
    "# Формирование ДС\n",
    "df2 = jobs[(jobs['status'] == 'confirmed') &\n",
    "           (jobs['client'].astype(str).isin(['####']))][\n",
    "    ['workplace', 'start', 'worker', 'start_time', 'finish_time', 'hours', 'custom_name']].merge(\n",
    "    workers[['_id', 'user']],\n",
    "    left_on='worker', right_on='_id', how='left').merge(\n",
    "    users[['_id', 'firstname', 'lastname', 'middlename']],\n",
    "    left_on='user', right_on='_id', how='left').merge(\n",
    "    workplaces[['_id', 'title']],\n",
    "    left_on='workplace', right_on='_id', how='left')\n",
    "df2['day'] = df2['start'].dt.day\n",
    "df2['ФИО'] = df2['lastname'].fillna('').astype(\n",
    "    str)+' '+df2['firstname'].fillna('').astype(str)+' '+df2['middlename'].fillna('').astype(str)\n",
    "df2['job'] = df2['start_time'].fillna('').astype(\n",
    "    str)+'-'+df2['finish_time'].fillna('').astype(str)+' ('+df2['hours'].fillna(0).astype(str)+')'"
   ]
  },
  {
   "cell_type": "code",
   "execution_count": 7,
   "id": "2c1b7417",
   "metadata": {},
   "outputs": [],
   "source": [
    "#Итоговая форма\n",
    "pd.concat([df2.pivot(index=['title', 'ФИО', 'custom_name'],\n",
    "          columns='day',\n",
    "          values='job'),\n",
    "           df2.pivot_table(index=['title', 'ФИО', 'custom_name'],\n",
    "                           values='hours',\n",
    "                           aggfunc='sum')], axis=1).to_excel(\n",
    "    \"####\")"
   ]
  }
 ],
 "metadata": {
  "kernelspec": {
   "display_name": "Python 3 (ipykernel)",
   "language": "python",
   "name": "python3"
  },
  "language_info": {
   "codemirror_mode": {
    "name": "ipython",
    "version": 3
   },
   "file_extension": ".py",
   "mimetype": "text/x-python",
   "name": "python",
   "nbconvert_exporter": "python",
   "pygments_lexer": "ipython3",
   "version": "3.9.13"
  },
  "varInspector": {
   "cols": {
    "lenName": 16,
    "lenType": 16,
    "lenVar": 40
   },
   "kernels_config": {
    "python": {
     "delete_cmd_postfix": "",
     "delete_cmd_prefix": "del ",
     "library": "var_list.py",
     "varRefreshCmd": "print(var_dic_list())"
    },
    "r": {
     "delete_cmd_postfix": ") ",
     "delete_cmd_prefix": "rm(",
     "library": "var_list.r",
     "varRefreshCmd": "cat(var_dic_list()) "
    }
   },
   "types_to_exclude": [
    "module",
    "function",
    "builtin_function_or_method",
    "instance",
    "_Feature"
   ],
   "window_display": false
  }
 },
 "nbformat": 4,
 "nbformat_minor": 5
}
