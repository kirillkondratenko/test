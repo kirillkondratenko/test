{
 "cells": [
  {
   "cell_type": "code",
   "execution_count": null,
   "id": "40e6ea2d",
   "metadata": {},
   "outputs": [],
   "source": [
    "import requests\n",
    "from bs4 import BeautifulSoup\n",
    "\n",
    "# Вставляем ссылку на нужный город\n",
    "houses_link = 'https://dom.mingkh.ru/primorskiy-kray/vladivostok/houses?page='\n",
    "\n",
    "headers = {'User-Agent': 'Mozilla/5.0 (Macintosh; Intel Mac OS X 10_10_1) AppleWebKit/537.36 (KHTML, like Gecko) Chrome/39.0.2171.95 Safari/537.36'}\n",
    "with requests.Session() as session:\n",
    "    houses = dict()\n",
    "    # Указываем вторым числом кол-во страниц с домами\n",
    "    # Если парсер остановился неободимо заменить первое число на номер текущей страницы и закоментировать (поставить #) возле строчки выше\n",
    "    for i in range(1, 38):\n",
    "        print(i)\n",
    "        houses_page = session.get(houses_link + str(i), headers=headers)\n",
    "        soup = BeautifulSoup(houses_page.text)\n",
    "        houses.update({a.contents[0]: {'href': a['href']} for a in soup.select('tbody a[href]')})\n",
    "        for house in houses:\n",
    "            house_page = session.get('https://dom.mingkh.ru' + houses[house]['href'])\n",
    "            house_soup = BeautifulSoup(house_page.text)\n",
    "            house_find = house_soup.find('dl',attrs={'class':'dl-horizontal house'})\n",
    "            house_children = house_find.findChildren()\n",
    "            for idx, r in enumerate(house_children):\n",
    "                if 'Жилых помещений' in str(r):\n",
    "                    houses[house]['Жилых помещений'] = house_children[idx+1].text\n",
    "                    break"
   ]
  }
 ],
 "metadata": {
  "kernelspec": {
   "display_name": "Python 3 (ipykernel)",
   "language": "python",
   "name": "python3"
  },
  "language_info": {
   "codemirror_mode": {
    "name": "ipython",
    "version": 3
   },
   "file_extension": ".py",
   "mimetype": "text/x-python",
   "name": "python",
   "nbconvert_exporter": "python",
   "pygments_lexer": "ipython3",
   "version": "3.9.13"
  },
  "varInspector": {
   "cols": {
    "lenName": 16,
    "lenType": 16,
    "lenVar": 40
   },
   "kernels_config": {
    "python": {
     "delete_cmd_postfix": "",
     "delete_cmd_prefix": "del ",
     "library": "var_list.py",
     "varRefreshCmd": "print(var_dic_list())"
    },
    "r": {
     "delete_cmd_postfix": ") ",
     "delete_cmd_prefix": "rm(",
     "library": "var_list.r",
     "varRefreshCmd": "cat(var_dic_list()) "
    }
   },
   "types_to_exclude": [
    "module",
    "function",
    "builtin_function_or_method",
    "instance",
    "_Feature"
   ],
   "window_display": false
  }
 },
 "nbformat": 4,
 "nbformat_minor": 5
}
